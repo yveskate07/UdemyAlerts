{
 "cells": [
  {
   "cell_type": "code",
   "execution_count": 1,
   "id": "a3839a8c-9803-429d-b586-234e8b1d9b1a",
   "metadata": {},
   "outputs": [],
   "source": [
    "import json\n",
    "import os\n",
    "import logging\n",
    "import pandas as pd\n",
    "from requests import get\n",
    "from bs4 import BeautifulSoup as bs"
   ]
  },
  {
   "cell_type": "code",
   "execution_count": 2,
   "id": "0188357d-03bd-4dbb-bb95-161d583301e8",
   "metadata": {},
   "outputs": [],
   "source": [
    "subject_of_interest = \"django\""
   ]
  },
  {
   "cell_type": "code",
   "execution_count": 4,
   "id": "73566d55-8f75-417e-8ed8-bc4260c25520",
   "metadata": {},
   "outputs": [],
   "source": [
    "def get_urls(filepath):\n",
    "    # Test the filepath to sure it exists\n",
    "    if os.path.exists(filepath):\n",
    "        f = open(filepath, \"r\")\n",
    "        urls = json.load(f)\n",
    "        f.close()\n",
    "        return urls\n",
    "\n",
    "    else:\n",
    "        return ImportError"
   ]
  },
  {
   "cell_type": "code",
   "execution_count": 12,
   "id": "6a95e596-6c14-4135-b21f-adc47e5c1092",
   "metadata": {},
   "outputs": [],
   "source": [
    "url = \"https://www.udemy.com/course/django-channels-create-your-own-web-chat-application/?couponCode=KEEPLEARNING\""
   ]
  },
  {
   "cell_type": "code",
   "execution_count": 13,
   "id": "dd4ffefa-2cbd-49d7-93e4-e30a165089e6",
   "metadata": {},
   "outputs": [],
   "source": [
    "res = get(url)\n",
    "soup = bs(res.text, 'html.parser')\n",
    "course_name = soup.find('h1', class_='ud-heading-xxl clp-lead__title clp-lead__title--small').text"
   ]
  },
  {
   "cell_type": "code",
   "execution_count": 14,
   "id": "513a5bd1-201d-408a-9fa1-52d4b14b3e40",
   "metadata": {},
   "outputs": [
    {
     "data": {
      "text/plain": [
       "'Django channels - create your own web chat application'"
      ]
     },
     "execution_count": 14,
     "metadata": {},
     "output_type": "execute_result"
    }
   ],
   "source": [
    "course_name"
   ]
  },
  {
   "cell_type": "code",
   "execution_count": 19,
   "id": "90de3c71-ece7-497d-87d9-8313846a7afa",
   "metadata": {},
   "outputs": [],
   "source": [
    "meta = soup.find_all('meta')"
   ]
  },
  {
   "cell_type": "code",
   "execution_count": 29,
   "id": "68aa548d-3920-454d-a12e-e46f0eae9a9b",
   "metadata": {},
   "outputs": [
    {
     "data": {
      "text/plain": [
       "'€64.99'"
      ]
     },
     "execution_count": 29,
     "metadata": {},
     "output_type": "execute_result"
    }
   ],
   "source": [
    "soup.find(\"meta\", {\"property\": \"udemy_com:price\"})['content']"
   ]
  },
  {
   "cell_type": "code",
   "execution_count": null,
   "id": "7204c94f-4b9c-48cd-aec4-ae45476dd5a1",
   "metadata": {},
   "outputs": [],
   "source": [
    "price = soup.find('div', class_=\"base-price-text-module--price-part---xQlz ud-clp-discount-price ud-heading-xl\").find_all('span')[1].find('span').text"
   ]
  },
  {
   "cell_type": "code",
   "execution_count": 16,
   "id": "b09fc30c-600f-4da5-be58-cf9c2087b7df",
   "metadata": {},
   "outputs": [],
   "source": [
    "price"
   ]
  },
  {
   "cell_type": "code",
   "execution_count": null,
   "id": "af2d155e-e73f-498b-8acb-47997b21a20a",
   "metadata": {},
   "outputs": [],
   "source": [
    "#price = soup.find('div', class_=\"base-price-text-module--price-part---xQlz ud-clp-discount-price ud-heading-xl\").find_all('span')[1].find('span').text"
   ]
  },
  {
   "cell_type": "code",
   "execution_count": 5,
   "id": "0dbf26ca-bb7a-4f0b-862a-dc61ac2e42f6",
   "metadata": {},
   "outputs": [
    {
     "name": "stdout",
     "output_type": "stream",
     "text": [
      "Erreur lors de l'obtention des urls. Details: name '__file__' is not defined\n"
     ]
    }
   ],
   "source": [
    "try:\n",
    "    urls = get_urls(os.path.join(\"C:\\Users\\7MAKSACOD PC\\PycharmProjects\\UdemyAlerts\\main.py\", \"urls.json\"))\n",
    "except Exception as e:\n",
    "    print(f\"Erreur lors de l'obtention des urls. Details: {e}\")\n",
    "else:\n",
    "    data = []\n",
    "    for subject in urls.keys():\n",
    "        for url in urls[subject]:\n",
    "            try:\n",
    "                res = get(url)\n",
    "                soup = bs(res.text, 'html.parser')\n",
    "                course_name = soup.find('h1', class_='ud-heading-xxl clp-lead__title clp-lead__title--small').text\n",
    "                price = soup.find(\"meta\", {\"property\": \"udemy_com:price\"})['content'].replace(',','.')\n",
    "                devise = \"Euro (€)\" if \"€\" in price else \"USD ($)\"\n",
    "                price = price.strip(\" $US\").strip(\"$\") if devise == \"USD ($)\" else price.strip(\"€\")\n",
    "                next_topic = subject == subject_of_interest\n",
    "                dic = {\"Name\": course_name, \"Price\": price, \"Devise\": devise, \"Interessé\": next_topic}\n",
    "                data.append(dic)\n",
    "\n",
    "            except Exception as e:\n",
    "                print(f\"Erreur lors du scrapping du cours: {url}. Details: {e}\")\n",
    "\n",
    "\n",
    "    df = pd.DataFrame(data)\n",
    "\n",
    "    df.to_csv(\"courses_tracked_prices.csv\", index=False)"
   ]
  },
  {
   "cell_type": "code",
   "execution_count": null,
   "id": "1a69cbca-b600-4d68-a2d2-32a1b48d15b2",
   "metadata": {},
   "outputs": [],
   "source": []
  }
 ],
 "metadata": {
  "kernelspec": {
   "display_name": "Python 3 (ipykernel)",
   "language": "python",
   "name": "python3"
  },
  "language_info": {
   "codemirror_mode": {
    "name": "ipython",
    "version": 3
   },
   "file_extension": ".py",
   "mimetype": "text/x-python",
   "name": "python",
   "nbconvert_exporter": "python",
   "pygments_lexer": "ipython3",
   "version": "3.13.2"
  }
 },
 "nbformat": 4,
 "nbformat_minor": 5
}
